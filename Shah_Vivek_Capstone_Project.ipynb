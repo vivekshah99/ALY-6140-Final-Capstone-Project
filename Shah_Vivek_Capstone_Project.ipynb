{
 "cells": [
  {
   "cell_type": "markdown",
   "metadata": {},
   "source": [
    "EMPLOYEE EARNINGS REPORT (2017)\n",
    "\n",
    "NORTHEASTERN UNIVERSITY, BOSTON\n",
    "\n",
    "NAME: VIVEK NIMISH SHAH\n",
    "\n",
    "SUBMITTED TO: Prof. Daya Rudhramoorthi\n",
    "\n",
    "DATE: JUNE 27, 2020\n",
    "\n",
    "DATASET LINK:\n",
    "\n",
    "Analytics Boston. (2020, January). Employee Earnings Report. Retrieved June 11, 2020, from https://data.boston.gov/dataset/employee-earnings-report\n",
    "\n",
    "The dataset contains payroll information of employee’s names, job details and earning information which includes overtime, base salary and compensations in total for employees in the city for the finanacial year 2017.  \n",
    "\n",
    "\n",
    "\n",
    "\n",
    "\n"
   ]
  },
  {
   "cell_type": "markdown",
   "metadata": {},
   "source": [
    "DATASET DESCRIPTION:"
   ]
  },
  {
   "cell_type": "markdown",
   "metadata": {},
   "source": [
    "1) NAME:\n",
    "Last name and first name of the employee\n"
   ]
  },
  {
   "cell_type": "markdown",
   "metadata": {},
   "source": [
    "2) DEPARTMENT NAME:\n",
    "Name of the Department where the employee is working"
   ]
  },
  {
   "cell_type": "markdown",
   "metadata": {},
   "source": [
    "3) TITLE:\n",
    "Job Role of the employee"
   ]
  },
  {
   "cell_type": "markdown",
   "metadata": {},
   "source": [
    "4) REGULAR:\n",
    "The base salary of the employee without including over time, educational incentive or servce incentive\n"
   ]
  },
  {
   "cell_type": "markdown",
   "metadata": {},
   "source": [
    "5) RETRO:\n",
    "Compensation paid for employee for work in previous period\n"
   ]
  },
  {
   "cell_type": "markdown",
   "metadata": {},
   "source": [
    "6) OTHER:\n",
    "Bonus Incentive Earnings due to any promotions or skills\n"
   ]
  },
  {
   "cell_type": "markdown",
   "metadata": {},
   "source": [
    "7) OVER TIME:\n",
    "Earnings due to the extra hours worked\n"
   ]
  },
  {
   "cell_type": "markdown",
   "metadata": {},
   "source": [
    "8) INJURED:\n",
    "Regular injured and Retro injured earnings\n"
   ]
  },
  {
   "cell_type": "markdown",
   "metadata": {},
   "source": [
    "9) DETAIL:\n",
    "Detail pay of the employee\n"
   ]
  },
  {
   "cell_type": "markdown",
   "metadata": {},
   "source": [
    "10) QUINN/EDUCATIONAL INCENTIVE:\n",
    "Earnings for any higher degree obtained by the Employee in same department\n"
   ]
  },
  {
   "cell_type": "markdown",
   "metadata": {},
   "source": [
    "11) TOTAL EARNINGS:\n",
    "All earnings received during 2017. This includes Regular salary, Over Time pay, Retro pay, Injured pay, Educational Incentive, detail and other pay.\n"
   ]
  },
  {
   "cell_type": "markdown",
   "metadata": {},
   "source": [
    "12) POSTAL:\n",
    "The area code in Boston"
   ]
  },
  {
   "cell_type": "markdown",
   "metadata": {},
   "source": [
    "IMPORTING REQUIRED LIBRARIES "
   ]
  },
  {
   "cell_type": "code",
   "execution_count": 2,
   "metadata": {},
   "outputs": [],
   "source": [
    "# Data Extraction and Exploration\n",
    "\n",
    "import pandas as pd\n",
    "\n",
    "import matplotlib.pyplot as plt\n",
    "import seaborn as sns\n",
    "import numpy as np"
   ]
  },
  {
   "cell_type": "code",
   "execution_count": 3,
   "metadata": {},
   "outputs": [],
   "source": [
    "# Predictive Analytics \n",
    "\n",
    "from sklearn import preprocessing\n",
    "import statsmodels.api as sm\n",
    "import statsmodels.formula.api as smf\n",
    "import sys"
   ]
  },
  {
   "cell_type": "markdown",
   "metadata": {},
   "source": [
    "EXTRACTING DATASET USING PANDAS"
   ]
  },
  {
   "cell_type": "code",
   "execution_count": 4,
   "metadata": {},
   "outputs": [
    {
     "data": {
      "text/html": [
       "<div>\n",
       "<style scoped>\n",
       "    .dataframe tbody tr th:only-of-type {\n",
       "        vertical-align: middle;\n",
       "    }\n",
       "\n",
       "    .dataframe tbody tr th {\n",
       "        vertical-align: top;\n",
       "    }\n",
       "\n",
       "    .dataframe thead th {\n",
       "        text-align: right;\n",
       "    }\n",
       "</style>\n",
       "<table border=\"1\" class=\"dataframe\">\n",
       "  <thead>\n",
       "    <tr style=\"text-align: right;\">\n",
       "      <th></th>\n",
       "      <th>NAME</th>\n",
       "      <th>DEPARTMENT NAME</th>\n",
       "      <th>TITLE</th>\n",
       "      <th>REGULAR</th>\n",
       "      <th>RETRO</th>\n",
       "      <th>OTHER</th>\n",
       "      <th>OVERTIME</th>\n",
       "      <th>INJURED</th>\n",
       "      <th>DETAIL</th>\n",
       "      <th>QUINN/EDUCATION INCENTIVE</th>\n",
       "      <th>TOTAL EARNINGS</th>\n",
       "      <th>POSTAL</th>\n",
       "    </tr>\n",
       "  </thead>\n",
       "  <tbody>\n",
       "    <tr>\n",
       "      <th>0</th>\n",
       "      <td>Miller,Francis T</td>\n",
       "      <td>Boston Police Department</td>\n",
       "      <td>Police Lieutenant (Det)</td>\n",
       "      <td>$129,530.83</td>\n",
       "      <td>NaN</td>\n",
       "      <td>$13,694.50</td>\n",
       "      <td>$8,150.41</td>\n",
       "      <td>NaN</td>\n",
       "      <td>NaN</td>\n",
       "      <td>$24,286.86</td>\n",
       "      <td>$175,662.60</td>\n",
       "      <td>2043</td>\n",
       "    </tr>\n",
       "    <tr>\n",
       "      <th>1</th>\n",
       "      <td>Sullivan,Patrice Murphy</td>\n",
       "      <td>Boston Police Department</td>\n",
       "      <td>Office Manager</td>\n",
       "      <td>$56,921.80</td>\n",
       "      <td>NaN</td>\n",
       "      <td>$3,594.65</td>\n",
       "      <td>$1,548.16</td>\n",
       "      <td>NaN</td>\n",
       "      <td>NaN</td>\n",
       "      <td>NaN</td>\n",
       "      <td>$62,064.61</td>\n",
       "      <td>2132</td>\n",
       "    </tr>\n",
       "    <tr>\n",
       "      <th>2</th>\n",
       "      <td>O'Hara,Michael C</td>\n",
       "      <td>Boston Police Department</td>\n",
       "      <td>Police Lieutenant</td>\n",
       "      <td>$124,056.64</td>\n",
       "      <td>NaN</td>\n",
       "      <td>$6,432.23</td>\n",
       "      <td>$29,043.67</td>\n",
       "      <td>NaN</td>\n",
       "      <td>$22,385.00</td>\n",
       "      <td>$23,260.69</td>\n",
       "      <td>$205,178.23</td>\n",
       "      <td>2021</td>\n",
       "    </tr>\n",
       "    <tr>\n",
       "      <th>3</th>\n",
       "      <td>Whalen,Richard L</td>\n",
       "      <td>Boston Police Department</td>\n",
       "      <td>Police Detective</td>\n",
       "      <td>$94,956.25</td>\n",
       "      <td>$4,985.32</td>\n",
       "      <td>$13,591.93</td>\n",
       "      <td>$85,419.22</td>\n",
       "      <td>$58.03</td>\n",
       "      <td>$16,330.00</td>\n",
       "      <td>$19,971.01</td>\n",
       "      <td>$235,311.76</td>\n",
       "      <td>2062</td>\n",
       "    </tr>\n",
       "    <tr>\n",
       "      <th>4</th>\n",
       "      <td>Kelly,Ann Marie</td>\n",
       "      <td>Boston Police Department</td>\n",
       "      <td>Tape Librarian I (BPD)</td>\n",
       "      <td>$69,995.34</td>\n",
       "      <td>NaN</td>\n",
       "      <td>$300.00</td>\n",
       "      <td>$7,961.08</td>\n",
       "      <td>NaN</td>\n",
       "      <td>NaN</td>\n",
       "      <td>NaN</td>\n",
       "      <td>$78,256.42</td>\n",
       "      <td>2190</td>\n",
       "    </tr>\n",
       "  </tbody>\n",
       "</table>\n",
       "</div>"
      ],
      "text/plain": [
       "                      NAME           DEPARTMENT NAME                    TITLE  \\\n",
       "0         Miller,Francis T  Boston Police Department  Police Lieutenant (Det)   \n",
       "1  Sullivan,Patrice Murphy  Boston Police Department           Office Manager   \n",
       "2         O'Hara,Michael C  Boston Police Department        Police Lieutenant   \n",
       "3         Whalen,Richard L  Boston Police Department         Police Detective   \n",
       "4          Kelly,Ann Marie  Boston Police Department   Tape Librarian I (BPD)   \n",
       "\n",
       "        REGULAR       RETRO        OTHER     OVERTIME  INJURED       DETAIL  \\\n",
       "0  $129,530.83          NaN  $13,694.50    $8,150.41       NaN          NaN   \n",
       "1   $56,921.80          NaN   $3,594.65    $1,548.16       NaN          NaN   \n",
       "2  $124,056.64          NaN   $6,432.23   $29,043.67       NaN  $22,385.00    \n",
       "3   $94,956.25   $4,985.32   $13,591.93   $85,419.22   $58.03   $16,330.00    \n",
       "4   $69,995.34          NaN     $300.00    $7,961.08       NaN          NaN   \n",
       "\n",
       "  QUINN/EDUCATION INCENTIVE TOTAL EARNINGS POSTAL  \n",
       "0               $24,286.86    $175,662.60    2043  \n",
       "1                       NaN    $62,064.61    2132  \n",
       "2               $23,260.69    $205,178.23    2021  \n",
       "3               $19,971.01    $235,311.76    2062  \n",
       "4                       NaN    $78,256.42    2190  "
      ]
     },
     "execution_count": 4,
     "metadata": {},
     "output_type": "execute_result"
    }
   ],
   "source": [
    "# Extracting dataset using pandas\n",
    "\n",
    "report_2017 = pd.read_csv('earnings2017.csv')\n",
    "report_2017.head(5)"
   ]
  },
  {
   "cell_type": "markdown",
   "metadata": {},
   "source": [
    "EXPLORATORY DATA  ANALYSIS:\n",
    "\n",
    "1) Identify which employee is highly educated based on the QUINN/EDUCATION INCENTIVE\n"
   ]
  },
  {
   "cell_type": "markdown",
   "metadata": {},
   "source": [
    "2) Identify which employee in the department gets highest base salary and from which area(postal).\n"
   ]
  },
  {
   "cell_type": "markdown",
   "metadata": {},
   "source": [
    "3) Identify the employee who is working for long hours based on highest OVERTIME payment.\n"
   ]
  },
  {
   "cell_type": "markdown",
   "metadata": {},
   "source": [
    "4) Which position is the top position among all departments based on the REGULAR payment.\n"
   ]
  },
  {
   "cell_type": "markdown",
   "metadata": {},
   "source": [
    "DATA VISUALIZATIONS:\n",
    "\n",
    "1) Explaining the distribution of each pay column of data with the help of histograms."
   ]
  },
  {
   "cell_type": "markdown",
   "metadata": {},
   "source": [
    "2) Identifying how much amount of each pay contributed for total earnings for different postal codes.\n"
   ]
  },
  {
   "cell_type": "markdown",
   "metadata": {},
   "source": [
    "3) Lastly, Implot for Quinn and Base pay.\n"
   ]
  },
  {
   "cell_type": "markdown",
   "metadata": {},
   "source": [
    "PREDICTIVE ANALYTICS:\n",
    "\n",
    "1) Check whether increase in percentage of QUINN/EDUCATION INNCENTIVE does the employees get high regular pay of not. Predicting the Regular based on quinn/education inncentive.\n"
   ]
  },
  {
   "cell_type": "markdown",
   "metadata": {},
   "source": [
    "2) Plot for Regular and Retro, and checking their distribution.\n"
   ]
  },
  {
   "cell_type": "markdown",
   "metadata": {},
   "source": [
    "3) Check if highly educated employees work for long hours or not."
   ]
  },
  {
   "cell_type": "code",
   "execution_count": 4,
   "metadata": {},
   "outputs": [
    {
     "name": "stdout",
     "output_type": "stream",
     "text": [
      "<class 'pandas.core.frame.DataFrame'>\n",
      "RangeIndex: 22245 entries, 0 to 22244\n",
      "Data columns (total 12 columns):\n",
      " #   Column                     Non-Null Count  Dtype \n",
      "---  ------                     --------------  ----- \n",
      " 0   NAME                       22245 non-null  object\n",
      " 1   DEPARTMENT NAME            22245 non-null  object\n",
      " 2   TITLE                      22245 non-null  object\n",
      " 3   REGULAR                    21640 non-null  object\n",
      " 4   RETRO                      3258 non-null   object\n",
      " 5   OTHER                      13083 non-null  object\n",
      " 6   OVERTIME                   6783 non-null   object\n",
      " 7   INJURED                    1283 non-null   object\n",
      " 8   DETAIL                     2423 non-null   object\n",
      " 9   QUINN/EDUCATION INCENTIVE  1259 non-null   object\n",
      " 10  TOTAL EARNINGS             22245 non-null  object\n",
      " 11  POSTAL                     22242 non-null  object\n",
      "dtypes: object(12)\n",
      "memory usage: 2.0+ MB\n"
     ]
    },
    {
     "data": {
      "text/plain": [
       "(22245, 12)"
      ]
     },
     "execution_count": 4,
     "metadata": {},
     "output_type": "execute_result"
    }
   ],
   "source": [
    "# Data cleanup\n",
    "\n",
    "# To check total count of values present and not the null counts\n",
    "report_2017.info()\n",
    "\n",
    "# Description of the dataset \n",
    "report_2017.describe()\n",
    "\n",
    "# Data columns \n",
    "report_2017.columns.tolist()\n",
    "\n",
    "# Check shape of the dataset\n",
    "report_2017.shape\n"
   ]
  },
  {
   "cell_type": "markdown",
   "metadata": {},
   "source": [
    "DATA CLEANING\n",
    "\n",
    "1) Checking the duplicates in all columns.\n"
   ]
  },
  {
   "cell_type": "markdown",
   "metadata": {},
   "source": [
    "2) Cleaning unwanted data in Postal column.\n"
   ]
  },
  {
   "cell_type": "markdown",
   "metadata": {},
   "source": [
    "3) Check for missing data. \n"
   ]
  },
  {
   "cell_type": "markdown",
   "metadata": {},
   "source": [
    "4) Checking the data types of all columns.\n"
   ]
  },
  {
   "cell_type": "markdown",
   "metadata": {},
   "source": [
    "5) Dropping some rows with NaN values for better analysis i.e. for visuals purpose. "
   ]
  },
  {
   "cell_type": "code",
   "execution_count": 5,
   "metadata": {},
   "outputs": [
    {
     "data": {
      "text/plain": [
       "False"
      ]
     },
     "execution_count": 5,
     "metadata": {},
     "output_type": "execute_result"
    }
   ],
   "source": [
    "# Data cleanup\n",
    "# check for duplicates \n",
    "\n",
    "# First checking uniqueness of the columns\n",
    "report_2017['NAME'].is_unique\n",
    "report_2017['DEPARTMENT NAME'].is_unique\n",
    "report_2017['POSTAL'].is_unique\n",
    "\n"
   ]
  },
  {
   "cell_type": "code",
   "execution_count": 6,
   "metadata": {},
   "outputs": [
    {
     "name": "stdout",
     "output_type": "stream",
     "text": [
      "Sullivan,Michael     4\n",
      "Kelly,Michael        3\n",
      "Thompson,Anthony     2\n",
      "Lopez,Antonio        2\n",
      "Walsh,Patricia       2\n",
      "                    ..\n",
      "Mullaly,Michelle     2\n",
      "Simon,Victor         2\n",
      "Powers,Kathleen      2\n",
      "Griffin,Daniel G.    2\n",
      "Smith,Robert         2\n",
      "Name: NAME, Length: 76, dtype: int64\n"
     ]
    }
   ],
   "source": [
    "# Data cleanup\n",
    "# Check for duplicates\n",
    "\n",
    "# Check duplicates in 'NAME' column with different postal codes\n",
    "names_2017 = report_2017['NAME'].value_counts()\n",
    "print(names_2017[names_2017>1])\n"
   ]
  },
  {
   "cell_type": "code",
   "execution_count": 7,
   "metadata": {},
   "outputs": [
    {
     "name": "stdout",
     "output_type": "stream",
     "text": [
      "0        False\n",
      "1        False\n",
      "2        False\n",
      "3        False\n",
      "4        False\n",
      "         ...  \n",
      "22240    False\n",
      "22241     True\n",
      "22242    False\n",
      "22243    False\n",
      "22244    False\n",
      "Length: 22245, dtype: bool\n"
     ]
    }
   ],
   "source": [
    "# Data cleanup\n",
    "# Check for duplicates\n",
    "\n",
    "# Check for duplicate rows in the dataset\n",
    "report_2017.groupby(report_2017['NAME']).apply(np.shape)\n",
    "print(report_2017.duplicated('NAME'))"
   ]
  },
  {
   "cell_type": "code",
   "execution_count": 8,
   "metadata": {},
   "outputs": [
    {
     "data": {
      "text/html": [
       "<div>\n",
       "<style scoped>\n",
       "    .dataframe tbody tr th:only-of-type {\n",
       "        vertical-align: middle;\n",
       "    }\n",
       "\n",
       "    .dataframe tbody tr th {\n",
       "        vertical-align: top;\n",
       "    }\n",
       "\n",
       "    .dataframe thead th {\n",
       "        text-align: right;\n",
       "    }\n",
       "</style>\n",
       "<table border=\"1\" class=\"dataframe\">\n",
       "  <thead>\n",
       "    <tr style=\"text-align: right;\">\n",
       "      <th></th>\n",
       "      <th>NAME</th>\n",
       "      <th>DEPARTMENT NAME</th>\n",
       "      <th>TITLE</th>\n",
       "      <th>REGULAR</th>\n",
       "      <th>RETRO</th>\n",
       "      <th>OTHER</th>\n",
       "      <th>OVERTIME</th>\n",
       "      <th>INJURED</th>\n",
       "      <th>DETAIL</th>\n",
       "      <th>QUINN/EDUCATION INCENTIVE</th>\n",
       "      <th>TOTAL EARNINGS</th>\n",
       "      <th>POSTAL</th>\n",
       "    </tr>\n",
       "  </thead>\n",
       "  <tbody>\n",
       "    <tr>\n",
       "      <th>7035</th>\n",
       "      <td>Sullivan,Michael</td>\n",
       "      <td>Boston Police Department</td>\n",
       "      <td>Police Detective</td>\n",
       "      <td>$89,187.23</td>\n",
       "      <td>$11,497.83</td>\n",
       "      <td>$5,153.35</td>\n",
       "      <td>$39,038.10</td>\n",
       "      <td>NaN</td>\n",
       "      <td>$368.00</td>\n",
       "      <td>$15,107.20</td>\n",
       "      <td>$160,351.71</td>\n",
       "      <td>2093</td>\n",
       "    </tr>\n",
       "    <tr>\n",
       "      <th>9019</th>\n",
       "      <td>Sullivan,Michael</td>\n",
       "      <td>Boston Fire Department</td>\n",
       "      <td>Fire Fighter</td>\n",
       "      <td>$106,051.12</td>\n",
       "      <td>NaN</td>\n",
       "      <td>$3,154.59</td>\n",
       "      <td>$14,360.92</td>\n",
       "      <td>NaN</td>\n",
       "      <td>$29,165.75</td>\n",
       "      <td>NaN</td>\n",
       "      <td>$152,732.38</td>\n",
       "      <td>2038</td>\n",
       "    </tr>\n",
       "    <tr>\n",
       "      <th>11881</th>\n",
       "      <td>Sullivan,Michael</td>\n",
       "      <td>Public Works Department</td>\n",
       "      <td>Maint Mech (Millwright)##</td>\n",
       "      <td>$49,782.93</td>\n",
       "      <td>$782.84</td>\n",
       "      <td>$542.50</td>\n",
       "      <td>$4,316.23</td>\n",
       "      <td>NaN</td>\n",
       "      <td>NaN</td>\n",
       "      <td>NaN</td>\n",
       "      <td>$55,424.50</td>\n",
       "      <td>2122</td>\n",
       "    </tr>\n",
       "    <tr>\n",
       "      <th>13539</th>\n",
       "      <td>Sullivan,Michael</td>\n",
       "      <td>Parks Department</td>\n",
       "      <td>Summer Youth Worker</td>\n",
       "      <td>$28,661.25</td>\n",
       "      <td>NaN</td>\n",
       "      <td>NaN</td>\n",
       "      <td>NaN</td>\n",
       "      <td>NaN</td>\n",
       "      <td>NaN</td>\n",
       "      <td>NaN</td>\n",
       "      <td>$28,661.25</td>\n",
       "      <td>2131</td>\n",
       "    </tr>\n",
       "  </tbody>\n",
       "</table>\n",
       "</div>"
      ],
      "text/plain": [
       "                   NAME           DEPARTMENT NAME                      TITLE  \\\n",
       "7035   Sullivan,Michael  Boston Police Department           Police Detective   \n",
       "9019   Sullivan,Michael    Boston Fire Department               Fire Fighter   \n",
       "11881  Sullivan,Michael   Public Works Department  Maint Mech (Millwright)##   \n",
       "13539  Sullivan,Michael          Parks Department        Summer Youth Worker   \n",
       "\n",
       "            REGULAR        RETRO       OTHER     OVERTIME INJURED  \\\n",
       "7035    $89,187.23   $11,497.83   $5,153.35   $39,038.10      NaN   \n",
       "9019   $106,051.12           NaN  $3,154.59   $14,360.92      NaN   \n",
       "11881   $49,782.93      $782.84     $542.50    $4,316.23      NaN   \n",
       "13539   $28,661.25           NaN         NaN          NaN     NaN   \n",
       "\n",
       "            DETAIL QUINN/EDUCATION INCENTIVE TOTAL EARNINGS POSTAL  \n",
       "7035      $368.00                $15,107.20    $160,351.71    2093  \n",
       "9019   $29,165.75                        NaN   $152,732.38    2038  \n",
       "11881          NaN                       NaN    $55,424.50    2122  \n",
       "13539          NaN                       NaN    $28,661.25    2131  "
      ]
     },
     "execution_count": 8,
     "metadata": {},
     "output_type": "execute_result"
    }
   ],
   "source": [
    "# Data cleanup\n",
    "# Check for duplicates\n",
    "\n",
    "# Check the most repeated name i.e. Sullivan Michael\n",
    "names_df = report_2017['NAME'] == 'Sullivan,Michael'\n",
    "report_2017.loc[names_df]"
   ]
  },
  {
   "cell_type": "code",
   "execution_count": 9,
   "metadata": {},
   "outputs": [
    {
     "data": {
      "text/plain": [
       "(22245, 12)"
      ]
     },
     "execution_count": 9,
     "metadata": {},
     "output_type": "execute_result"
    }
   ],
   "source": [
    "# Data cleanup\n",
    "# Check for duplicates\n",
    "\n",
    "# Check shape of the dataset before and after droping duplicates\n",
    "report_2017.shape #before\n",
    "report_2017 = report_2017.drop_duplicates()\n",
    "report_2017.reset_index(drop = True, inplace = True)\n",
    "report_2017.shape #after"
   ]
  },
  {
   "cell_type": "code",
   "execution_count": 10,
   "metadata": {},
   "outputs": [],
   "source": [
    "# Data cleanup\n",
    "\n",
    "# Removing any special symbols present in first 3 column sof data set\n",
    "report_2017['TITLE']= report_2017['TITLE'].str.replace(r\"\\(.*\\)\",\"\")\n",
    "report_2017['DEPARTMENT NAME']= report_2017['DEPARTMENT NAME'].str.replace(r\"\\(.*\\)\",\"\")\n",
    "report_2017['TITLE'] = report_2017['TITLE'].str.split('/').str[0]\n",
    "report_2017['TITLE'] = report_2017['TITLE'].str.split('-').str[0]\n",
    "report_2017['TITLE'] = report_2017['TITLE'].str.split(',').str[0]\n",
    "report_2017['DEPARTMENT NAME'] = report_2017['DEPARTMENT NAME'].str.split('/').str[0]\n",
    "report_2017['DEPARTMENT NAME'] = report_2017['DEPARTMENT NAME'].str.split('-').str[0]"
   ]
  },
  {
   "cell_type": "code",
   "execution_count": 11,
   "metadata": {},
   "outputs": [],
   "source": [
    "# Data cleanup\n",
    "\n",
    "# Removing characters from the 'NAME','DEPARTMENT_NAME' and 'TITLE' columns \n",
    "\n",
    "report_2017[report_2017['NAME']=='King,Peter']\n",
    "report_2017[['DEPARTMENT NAME','TITLE']] = report_2017[['DEPARTMENT NAME','TITLE']].replace({'\\$': '', ',': '','\\##':'','\\###':'','\"\"':'','#':''}, regex=True)\n"
   ]
  },
  {
   "cell_type": "code",
   "execution_count": 12,
   "metadata": {},
   "outputs": [],
   "source": [
    "# Data cleanup\n",
    "\n",
    "# Removing special characters in 'NAME'\n",
    "report_2017['NAME'] = report_2017['NAME'].str.replace(\",\",\" \")\n",
    "report_2017['NAME'] = report_2017['NAME'].str.replace(\".\",\" \")\n"
   ]
  },
  {
   "cell_type": "code",
   "execution_count": 13,
   "metadata": {},
   "outputs": [
    {
     "data": {
      "text/html": [
       "<div>\n",
       "<style scoped>\n",
       "    .dataframe tbody tr th:only-of-type {\n",
       "        vertical-align: middle;\n",
       "    }\n",
       "\n",
       "    .dataframe tbody tr th {\n",
       "        vertical-align: top;\n",
       "    }\n",
       "\n",
       "    .dataframe thead th {\n",
       "        text-align: right;\n",
       "    }\n",
       "</style>\n",
       "<table border=\"1\" class=\"dataframe\">\n",
       "  <thead>\n",
       "    <tr style=\"text-align: right;\">\n",
       "      <th></th>\n",
       "      <th>NAME</th>\n",
       "      <th>DEPARTMENT NAME</th>\n",
       "      <th>TITLE</th>\n",
       "      <th>REGULAR</th>\n",
       "      <th>RETRO</th>\n",
       "      <th>OTHER</th>\n",
       "      <th>OVERTIME</th>\n",
       "      <th>INJURED</th>\n",
       "      <th>DETAIL</th>\n",
       "      <th>QUINN/EDUCATION INCENTIVE</th>\n",
       "      <th>TOTAL EARNINGS</th>\n",
       "      <th>POSTAL</th>\n",
       "    </tr>\n",
       "  </thead>\n",
       "  <tbody>\n",
       "    <tr>\n",
       "      <th>0</th>\n",
       "      <td>Miller Francis T</td>\n",
       "      <td>Boston Police Department</td>\n",
       "      <td>Police Lieutenant</td>\n",
       "      <td>$129,530.83</td>\n",
       "      <td>NaN</td>\n",
       "      <td>$13,694.50</td>\n",
       "      <td>$8,150.41</td>\n",
       "      <td>NaN</td>\n",
       "      <td>NaN</td>\n",
       "      <td>$24,286.86</td>\n",
       "      <td>$175,662.60</td>\n",
       "      <td>2043</td>\n",
       "    </tr>\n",
       "    <tr>\n",
       "      <th>1</th>\n",
       "      <td>Sullivan Patrice Murphy</td>\n",
       "      <td>Boston Police Department</td>\n",
       "      <td>Office Manager</td>\n",
       "      <td>$56,921.80</td>\n",
       "      <td>NaN</td>\n",
       "      <td>$3,594.65</td>\n",
       "      <td>$1,548.16</td>\n",
       "      <td>NaN</td>\n",
       "      <td>NaN</td>\n",
       "      <td>NaN</td>\n",
       "      <td>$62,064.61</td>\n",
       "      <td>2132</td>\n",
       "    </tr>\n",
       "    <tr>\n",
       "      <th>2</th>\n",
       "      <td>O'Hara Michael C</td>\n",
       "      <td>Boston Police Department</td>\n",
       "      <td>Police Lieutenant</td>\n",
       "      <td>$124,056.64</td>\n",
       "      <td>NaN</td>\n",
       "      <td>$6,432.23</td>\n",
       "      <td>$29,043.67</td>\n",
       "      <td>NaN</td>\n",
       "      <td>$22,385.00</td>\n",
       "      <td>$23,260.69</td>\n",
       "      <td>$205,178.23</td>\n",
       "      <td>2021</td>\n",
       "    </tr>\n",
       "    <tr>\n",
       "      <th>3</th>\n",
       "      <td>Whalen Richard L</td>\n",
       "      <td>Boston Police Department</td>\n",
       "      <td>Police Detective</td>\n",
       "      <td>$94,956.25</td>\n",
       "      <td>$4,985.32</td>\n",
       "      <td>$13,591.93</td>\n",
       "      <td>$85,419.22</td>\n",
       "      <td>$58.03</td>\n",
       "      <td>$16,330.00</td>\n",
       "      <td>$19,971.01</td>\n",
       "      <td>$235,311.76</td>\n",
       "      <td>2062</td>\n",
       "    </tr>\n",
       "    <tr>\n",
       "      <th>4</th>\n",
       "      <td>Kelly Ann Marie</td>\n",
       "      <td>Boston Police Department</td>\n",
       "      <td>Tape Librarian I</td>\n",
       "      <td>$69,995.34</td>\n",
       "      <td>NaN</td>\n",
       "      <td>$300.00</td>\n",
       "      <td>$7,961.08</td>\n",
       "      <td>NaN</td>\n",
       "      <td>NaN</td>\n",
       "      <td>NaN</td>\n",
       "      <td>$78,256.42</td>\n",
       "      <td>2190</td>\n",
       "    </tr>\n",
       "    <tr>\n",
       "      <th>5</th>\n",
       "      <td>Carroll William F</td>\n",
       "      <td>Boston Police Department</td>\n",
       "      <td>Police Offc</td>\n",
       "      <td>$12,756.79</td>\n",
       "      <td>$2,390.14</td>\n",
       "      <td>$41,612.10</td>\n",
       "      <td>$912.04</td>\n",
       "      <td>NaN</td>\n",
       "      <td>NaN</td>\n",
       "      <td>$1,563.30</td>\n",
       "      <td>$59,234.37</td>\n",
       "      <td>2131</td>\n",
       "    </tr>\n",
       "    <tr>\n",
       "      <th>6</th>\n",
       "      <td>Connolly John J</td>\n",
       "      <td>Boston Police Department</td>\n",
       "      <td>Police Officer</td>\n",
       "      <td>$93,180.42</td>\n",
       "      <td>$2,027.71</td>\n",
       "      <td>$13,338.20</td>\n",
       "      <td>$19,881.93</td>\n",
       "      <td>NaN</td>\n",
       "      <td>$28,934.00</td>\n",
       "      <td>$14,733.53</td>\n",
       "      <td>$172,095.79</td>\n",
       "      <td>2339</td>\n",
       "    </tr>\n",
       "    <tr>\n",
       "      <th>7</th>\n",
       "      <td>Ivens Paul M</td>\n",
       "      <td>Boston Police Department</td>\n",
       "      <td>Police Captain</td>\n",
       "      <td>NaN</td>\n",
       "      <td>NaN</td>\n",
       "      <td>$60,777.01</td>\n",
       "      <td>NaN</td>\n",
       "      <td>$2,658.71</td>\n",
       "      <td>NaN</td>\n",
       "      <td>$498.51</td>\n",
       "      <td>$63,934.23</td>\n",
       "      <td>2339</td>\n",
       "    </tr>\n",
       "    <tr>\n",
       "      <th>8</th>\n",
       "      <td>Kelly John R</td>\n",
       "      <td>Boston Police Department</td>\n",
       "      <td>Police Sergeant</td>\n",
       "      <td>$13,827.39</td>\n",
       "      <td>NaN</td>\n",
       "      <td>$62,393.08</td>\n",
       "      <td>$867.60</td>\n",
       "      <td>NaN</td>\n",
       "      <td>NaN</td>\n",
       "      <td>$2,074.11</td>\n",
       "      <td>$79,162.18</td>\n",
       "      <td>2492</td>\n",
       "    </tr>\n",
       "    <tr>\n",
       "      <th>9</th>\n",
       "      <td>Klokman John A</td>\n",
       "      <td>Boston Police Department</td>\n",
       "      <td>PoliceSergeant</td>\n",
       "      <td>$107,599.31</td>\n",
       "      <td>NaN</td>\n",
       "      <td>$14,482.47</td>\n",
       "      <td>$12,824.85</td>\n",
       "      <td>NaN</td>\n",
       "      <td>$99,640.00</td>\n",
       "      <td>$16,140.15</td>\n",
       "      <td>$250,686.78</td>\n",
       "      <td>2134</td>\n",
       "    </tr>\n",
       "  </tbody>\n",
       "</table>\n",
       "</div>"
      ],
      "text/plain": [
       "                      NAME           DEPARTMENT NAME               TITLE  \\\n",
       "0         Miller Francis T  Boston Police Department  Police Lieutenant    \n",
       "1  Sullivan Patrice Murphy  Boston Police Department      Office Manager   \n",
       "2         O'Hara Michael C  Boston Police Department   Police Lieutenant   \n",
       "3         Whalen Richard L  Boston Police Department    Police Detective   \n",
       "4          Kelly Ann Marie  Boston Police Department   Tape Librarian I    \n",
       "5        Carroll William F  Boston Police Department         Police Offc   \n",
       "6          Connolly John J  Boston Police Department      Police Officer   \n",
       "7             Ivens Paul M  Boston Police Department      Police Captain   \n",
       "8             Kelly John R  Boston Police Department    Police Sergeant    \n",
       "9          Klokman John A   Boston Police Department      PoliceSergeant   \n",
       "\n",
       "        REGULAR       RETRO        OTHER     OVERTIME     INJURED  \\\n",
       "0  $129,530.83          NaN  $13,694.50    $8,150.41          NaN   \n",
       "1   $56,921.80          NaN   $3,594.65    $1,548.16          NaN   \n",
       "2  $124,056.64          NaN   $6,432.23   $29,043.67          NaN   \n",
       "3   $94,956.25   $4,985.32   $13,591.93   $85,419.22      $58.03    \n",
       "4   $69,995.34          NaN     $300.00    $7,961.08          NaN   \n",
       "5   $12,756.79   $2,390.14   $41,612.10      $912.04          NaN   \n",
       "6   $93,180.42   $2,027.71   $13,338.20   $19,881.93          NaN   \n",
       "7           NaN         NaN  $60,777.01           NaN  $2,658.71    \n",
       "8   $13,827.39          NaN  $62,393.08      $867.60          NaN   \n",
       "9  $107,599.31          NaN  $14,482.47   $12,824.85          NaN   \n",
       "\n",
       "        DETAIL QUINN/EDUCATION INCENTIVE TOTAL EARNINGS POSTAL  \n",
       "0          NaN               $24,286.86    $175,662.60    2043  \n",
       "1          NaN                       NaN    $62,064.61    2132  \n",
       "2  $22,385.00                $23,260.69    $205,178.23    2021  \n",
       "3  $16,330.00                $19,971.01    $235,311.76    2062  \n",
       "4          NaN                       NaN    $78,256.42    2190  \n",
       "5          NaN                $1,563.30     $59,234.37    2131  \n",
       "6  $28,934.00                $14,733.53    $172,095.79    2339  \n",
       "7          NaN                  $498.51     $63,934.23    2339  \n",
       "8          NaN                $2,074.11     $79,162.18    2492  \n",
       "9  $99,640.00                $16,140.15    $250,686.78    2134  "
      ]
     },
     "execution_count": 13,
     "metadata": {},
     "output_type": "execute_result"
    }
   ],
   "source": [
    "# Data cleanup\n",
    "# Final check whether above cleanup is been done or not\n",
    "\n",
    "report_2017[report_2017['NAME'] == 'Kelly,Ann Marie']\n",
    "report_2017.head(10)"
   ]
  },
  {
   "cell_type": "code",
   "execution_count": 14,
   "metadata": {},
   "outputs": [
    {
     "name": "stdout",
     "output_type": "stream",
     "text": [
      "<class 'pandas.core.frame.DataFrame'>\n",
      "RangeIndex: 22245 entries, 0 to 22244\n",
      "Data columns (total 12 columns):\n",
      " #   Column                     Non-Null Count  Dtype \n",
      "---  ------                     --------------  ----- \n",
      " 0   NAME                       22245 non-null  object\n",
      " 1   DEPARTMENT NAME            22245 non-null  object\n",
      " 2   TITLE                      22245 non-null  object\n",
      " 3   REGULAR                    21640 non-null  object\n",
      " 4   RETRO                      3258 non-null   object\n",
      " 5   OTHER                      13083 non-null  object\n",
      " 6   OVERTIME                   6783 non-null   object\n",
      " 7   INJURED                    1283 non-null   object\n",
      " 8   DETAIL                     2423 non-null   object\n",
      " 9   QUINN/EDUCATION INCENTIVE  1259 non-null   object\n",
      " 10  TOTAL EARNINGS             22245 non-null  object\n",
      " 11  POSTAL                     22242 non-null  object\n",
      "dtypes: object(12)\n",
      "memory usage: 2.0+ MB\n"
     ]
    },
    {
     "data": {
      "text/plain": [
       "NAME                             0\n",
       "DEPARTMENT NAME                  0\n",
       "TITLE                            0\n",
       "REGULAR                        605\n",
       "RETRO                        18987\n",
       "OTHER                         9162\n",
       "OVERTIME                     15462\n",
       "INJURED                      20962\n",
       "DETAIL                       19822\n",
       "QUINN/EDUCATION INCENTIVE    20986\n",
       "TOTAL EARNINGS                   0\n",
       "POSTAL                           3\n",
       "dtype: int64"
      ]
     },
     "execution_count": 14,
     "metadata": {},
     "output_type": "execute_result"
    }
   ],
   "source": [
    "# Data cleanup\n",
    "# Handling missing values, 'NaNs', Null \n",
    "\n",
    "# Null values in the data set\n",
    "report_2017.isnull().any()\n",
    "report_2017.isnull().any().any()\n",
    "report_2017.info()\n",
    "\n",
    "# describe data without null values\n",
    "report_2017.dropna().describe()\n",
    "\n",
    "# describe data with all values\n",
    "report_2017.describe()\n",
    "\n",
    "# Count of NaN values in data\n",
    "report_2017.isnull()\n",
    "report_2017.isnull().sum()"
   ]
  },
  {
   "cell_type": "code",
   "execution_count": 15,
   "metadata": {},
   "outputs": [
    {
     "data": {
      "text/plain": [
       "0        259061.66\n",
       "1        113843.60\n",
       "2        248113.28\n",
       "3        189912.50\n",
       "4        139990.68\n",
       "           ...    \n",
       "22240      3408.02\n",
       "22241      5554.88\n",
       "22242     13220.00\n",
       "22243      2341.00\n",
       "22244     12425.26\n",
       "Name: REGULAR, Length: 22245, dtype: float64"
      ]
     },
     "execution_count": 15,
     "metadata": {},
     "output_type": "execute_result"
    }
   ],
   "source": [
    "# Data types of columns\n",
    "report_2017.dtypes\n",
    "\n",
    "# Removing the '$' symbol and few characters in the data\n",
    "# For creating visuals converting 'PAY' into float data type\n",
    "# creating a list of required columns where we need to remove the $ symbol\n",
    "cols=[\"REGULAR\",\"RETRO\",\"OTHER\",\"OVERTIME\",\"INJURED\",\"DETAIL\",\"QUINN/EDUCATION INCENTIVE\",\"TOTAL EARNINGS\"]\n",
    "\n",
    "# Converting all object data type columns to String data type\n",
    "report_2017['REGULAR'] = report_2017['REGULAR'].astype(str)\n",
    "report_2017['RETRO'] = report_2017['RETRO'].astype(str)\n",
    "report_2017['OTHER'] = report_2017['OTHER'].astype(str)\n",
    "report_2017['OVERTIME'] = report_2017['OVERTIME'].astype(str)\n",
    "report_2017['INJURED'] = report_2017['INJURED'].astype(str)\n",
    "report_2017['DETAIL'] = report_2017['DETAIL'].astype(str)\n",
    "report_2017['QUINN/EDUCATION INCENTIVE'] = report_2017['QUINN/EDUCATION INCENTIVE'].astype(str)\n",
    "\n",
    "# Removing the '$' symbol from the pay details columns\n",
    "report_2017[cols] = report_2017[cols].replace({'\\$': '','\\(': '', '\\)':'', ',': ''}, regex=True)\n",
    "\n",
    "# converting the data type of pay details of employee columns to float Data type\n",
    "report_2017[cols] = report_2017[cols].astype(float)\n",
    "\n",
    "# Data type of all columns of data set\n",
    "report_2017.dtypes\n",
    "\n",
    "# checking whether we can perform any operations or not\n",
    "report_2017['REGULAR']*2"
   ]
  },
  {
   "cell_type": "code",
   "execution_count": 16,
   "metadata": {},
   "outputs": [
    {
     "data": {
      "text/html": [
       "<div>\n",
       "<style scoped>\n",
       "    .dataframe tbody tr th:only-of-type {\n",
       "        vertical-align: middle;\n",
       "    }\n",
       "\n",
       "    .dataframe tbody tr th {\n",
       "        vertical-align: top;\n",
       "    }\n",
       "\n",
       "    .dataframe thead th {\n",
       "        text-align: right;\n",
       "    }\n",
       "</style>\n",
       "<table border=\"1\" class=\"dataframe\">\n",
       "  <thead>\n",
       "    <tr style=\"text-align: right;\">\n",
       "      <th></th>\n",
       "      <th>NAME</th>\n",
       "      <th>DEPARTMENT NAME</th>\n",
       "      <th>TITLE</th>\n",
       "      <th>REGULAR</th>\n",
       "      <th>RETRO</th>\n",
       "      <th>OTHER</th>\n",
       "      <th>OVERTIME</th>\n",
       "      <th>INJURED</th>\n",
       "      <th>DETAIL</th>\n",
       "      <th>QUINN/EDUCATION INCENTIVE</th>\n",
       "      <th>TOTAL EARNINGS</th>\n",
       "      <th>POSTAL</th>\n",
       "    </tr>\n",
       "  </thead>\n",
       "  <tbody>\n",
       "    <tr>\n",
       "      <th>3</th>\n",
       "      <td>Whalen Richard L</td>\n",
       "      <td>Boston Police Department</td>\n",
       "      <td>Police Detective</td>\n",
       "      <td>94956.25</td>\n",
       "      <td>4985.32</td>\n",
       "      <td>13591.93</td>\n",
       "      <td>85419.22</td>\n",
       "      <td>58.03</td>\n",
       "      <td>16330.0</td>\n",
       "      <td>19971.01</td>\n",
       "      <td>235311.76</td>\n",
       "      <td>2062</td>\n",
       "    </tr>\n",
       "    <tr>\n",
       "      <th>159</th>\n",
       "      <td>Shoulla Christopher K</td>\n",
       "      <td>Boston Police Department</td>\n",
       "      <td>Police Offc Comm Serv Offc 38</td>\n",
       "      <td>72854.70</td>\n",
       "      <td>2410.37</td>\n",
       "      <td>8364.66</td>\n",
       "      <td>62211.53</td>\n",
       "      <td>21193.90</td>\n",
       "      <td>30406.0</td>\n",
       "      <td>18490.71</td>\n",
       "      <td>215931.87</td>\n",
       "      <td>2339</td>\n",
       "    </tr>\n",
       "    <tr>\n",
       "      <th>178</th>\n",
       "      <td>Colburn Robert P</td>\n",
       "      <td>Boston Police Department</td>\n",
       "      <td>Police Offc Canine 26</td>\n",
       "      <td>14733.76</td>\n",
       "      <td>2170.50</td>\n",
       "      <td>14232.27</td>\n",
       "      <td>2842.65</td>\n",
       "      <td>78984.76</td>\n",
       "      <td>7176.0</td>\n",
       "      <td>18470.46</td>\n",
       "      <td>138610.40</td>\n",
       "      <td>2081</td>\n",
       "    </tr>\n",
       "    <tr>\n",
       "      <th>207</th>\n",
       "      <td>Manning John J</td>\n",
       "      <td>Boston Police Department</td>\n",
       "      <td>Police Officer</td>\n",
       "      <td>29847.00</td>\n",
       "      <td>2457.15</td>\n",
       "      <td>800.00</td>\n",
       "      <td>9265.20</td>\n",
       "      <td>63339.98</td>\n",
       "      <td>11914.0</td>\n",
       "      <td>14733.53</td>\n",
       "      <td>132356.86</td>\n",
       "      <td>2370</td>\n",
       "    </tr>\n",
       "    <tr>\n",
       "      <th>260</th>\n",
       "      <td>Worthy Jeffrey Maurice</td>\n",
       "      <td>Boston Police Department</td>\n",
       "      <td>Police Officer</td>\n",
       "      <td>44597.40</td>\n",
       "      <td>1888.97</td>\n",
       "      <td>5982.59</td>\n",
       "      <td>5838.17</td>\n",
       "      <td>48467.81</td>\n",
       "      <td>10580.0</td>\n",
       "      <td>18318.81</td>\n",
       "      <td>135673.75</td>\n",
       "      <td>2119</td>\n",
       "    </tr>\n",
       "    <tr>\n",
       "      <th>...</th>\n",
       "      <td>...</td>\n",
       "      <td>...</td>\n",
       "      <td>...</td>\n",
       "      <td>...</td>\n",
       "      <td>...</td>\n",
       "      <td>...</td>\n",
       "      <td>...</td>\n",
       "      <td>...</td>\n",
       "      <td>...</td>\n",
       "      <td>...</td>\n",
       "      <td>...</td>\n",
       "      <td>...</td>\n",
       "    </tr>\n",
       "    <tr>\n",
       "      <th>17624</th>\n",
       "      <td>Lizardo Steven</td>\n",
       "      <td>Boston Police Department</td>\n",
       "      <td>Police Officer</td>\n",
       "      <td>82472.43</td>\n",
       "      <td>1443.11</td>\n",
       "      <td>800.00</td>\n",
       "      <td>29693.28</td>\n",
       "      <td>1901.17</td>\n",
       "      <td>7728.0</td>\n",
       "      <td>13457.25</td>\n",
       "      <td>137495.24</td>\n",
       "      <td>2136</td>\n",
       "    </tr>\n",
       "    <tr>\n",
       "      <th>17645</th>\n",
       "      <td>O'Brien Jonathan</td>\n",
       "      <td>Boston Police Department</td>\n",
       "      <td>Police Officer</td>\n",
       "      <td>84709.10</td>\n",
       "      <td>1571.50</td>\n",
       "      <td>800.00</td>\n",
       "      <td>36617.40</td>\n",
       "      <td>33.78</td>\n",
       "      <td>15594.0</td>\n",
       "      <td>6760.63</td>\n",
       "      <td>146086.41</td>\n",
       "      <td>2127</td>\n",
       "    </tr>\n",
       "    <tr>\n",
       "      <th>17649</th>\n",
       "      <td>Gigliello James M</td>\n",
       "      <td>Boston Police Department</td>\n",
       "      <td>Police Officer</td>\n",
       "      <td>53110.39</td>\n",
       "      <td>1253.05</td>\n",
       "      <td>1800.00</td>\n",
       "      <td>16265.53</td>\n",
       "      <td>29909.18</td>\n",
       "      <td>19274.0</td>\n",
       "      <td>13229.06</td>\n",
       "      <td>134841.21</td>\n",
       "      <td>2132</td>\n",
       "    </tr>\n",
       "    <tr>\n",
       "      <th>17664</th>\n",
       "      <td>Leo Rebecca J</td>\n",
       "      <td>Boston Police Department</td>\n",
       "      <td>Police Officer</td>\n",
       "      <td>52761.33</td>\n",
       "      <td>1384.55</td>\n",
       "      <td>800.00</td>\n",
       "      <td>8721.06</td>\n",
       "      <td>31947.77</td>\n",
       "      <td>2668.0</td>\n",
       "      <td>6979.79</td>\n",
       "      <td>105262.50</td>\n",
       "      <td>2131</td>\n",
       "    </tr>\n",
       "    <tr>\n",
       "      <th>18793</th>\n",
       "      <td>McLaughlin Nicholas J</td>\n",
       "      <td>Boston Police Department</td>\n",
       "      <td>Police Officer</td>\n",
       "      <td>67822.59</td>\n",
       "      <td>1072.36</td>\n",
       "      <td>800.00</td>\n",
       "      <td>13220.40</td>\n",
       "      <td>7426.95</td>\n",
       "      <td>17066.0</td>\n",
       "      <td>12114.86</td>\n",
       "      <td>119523.16</td>\n",
       "      <td>2122</td>\n",
       "    </tr>\n",
       "  </tbody>\n",
       "</table>\n",
       "<p>123 rows × 12 columns</p>\n",
       "</div>"
      ],
      "text/plain": [
       "                         NAME           DEPARTMENT NAME  \\\n",
       "3            Whalen Richard L  Boston Police Department   \n",
       "159     Shoulla Christopher K  Boston Police Department   \n",
       "178          Colburn Robert P  Boston Police Department   \n",
       "207            Manning John J  Boston Police Department   \n",
       "260    Worthy Jeffrey Maurice  Boston Police Department   \n",
       "...                       ...                       ...   \n",
       "17624          Lizardo Steven  Boston Police Department   \n",
       "17645        O'Brien Jonathan  Boston Police Department   \n",
       "17649       Gigliello James M  Boston Police Department   \n",
       "17664           Leo Rebecca J  Boston Police Department   \n",
       "18793   McLaughlin Nicholas J  Boston Police Department   \n",
       "\n",
       "                               TITLE   REGULAR    RETRO     OTHER  OVERTIME  \\\n",
       "3                   Police Detective  94956.25  4985.32  13591.93  85419.22   \n",
       "159    Police Offc Comm Serv Offc 38  72854.70  2410.37   8364.66  62211.53   \n",
       "178            Police Offc Canine 26  14733.76  2170.50  14232.27   2842.65   \n",
       "207                   Police Officer  29847.00  2457.15    800.00   9265.20   \n",
       "260                   Police Officer  44597.40  1888.97   5982.59   5838.17   \n",
       "...                              ...       ...      ...       ...       ...   \n",
       "17624                 Police Officer  82472.43  1443.11    800.00  29693.28   \n",
       "17645                 Police Officer  84709.10  1571.50    800.00  36617.40   \n",
       "17649                 Police Officer  53110.39  1253.05   1800.00  16265.53   \n",
       "17664                 Police Officer  52761.33  1384.55    800.00   8721.06   \n",
       "18793                 Police Officer  67822.59  1072.36    800.00  13220.40   \n",
       "\n",
       "        INJURED   DETAIL  QUINN/EDUCATION INCENTIVE  TOTAL EARNINGS POSTAL  \n",
       "3         58.03  16330.0                   19971.01       235311.76   2062  \n",
       "159    21193.90  30406.0                   18490.71       215931.87   2339  \n",
       "178    78984.76   7176.0                   18470.46       138610.40   2081  \n",
       "207    63339.98  11914.0                   14733.53       132356.86   2370  \n",
       "260    48467.81  10580.0                   18318.81       135673.75   2119  \n",
       "...         ...      ...                        ...             ...    ...  \n",
       "17624   1901.17   7728.0                   13457.25       137495.24   2136  \n",
       "17645     33.78  15594.0                    6760.63       146086.41   2127  \n",
       "17649  29909.18  19274.0                   13229.06       134841.21   2132  \n",
       "17664  31947.77   2668.0                    6979.79       105262.50   2131  \n",
       "18793   7426.95  17066.0                   12114.86       119523.16   2122  \n",
       "\n",
       "[123 rows x 12 columns]"
      ]
     },
     "execution_count": 16,
     "metadata": {},
     "output_type": "execute_result"
    }
   ],
   "source": [
    "# dropping NaN values in BASE PAY and TOTAL EARNINGS columns\n",
    "report_2017 = report_2017.dropna(subset=['REGULAR', 'TOTAL EARNINGS','POSTAL'])\n",
    "report_2017\n",
    "\n",
    "# I removed all the NAN values in all columns to see who receive all payment options\n",
    "report_2017_list = report_2017.dropna(subset=['REGULAR', 'TOTAL EARNINGS','RETRO','OTHER','OVERTIME','INJURED','DETAIL','QUINN/EDUCATION INCENTIVE','POSTAL'])\n",
    "report_2017_list"
   ]
  },
  {
   "cell_type": "markdown",
   "metadata": {},
   "source": [
    "DATA EXPLORATION\n",
    "\n",
    "Post filtering the dataset, the dataset has details of employees who gets all types of payments. Here, exploring the dataset using the questions belows.\n",
    "\n",
    "1) Employee with highest regular pay.\n",
    "2) Highly educated employee.\n",
    "3) Employee who works for long hours.\n"
   ]
  },
  {
   "cell_type": "code",
   "execution_count": 17,
   "metadata": {},
   "outputs": [
    {
     "name": "stdout",
     "output_type": "stream",
     "text": [
      "Name of the employee who gets highest regular pay of all departments :  Brown Michael A\n",
      "highest base salary department is : Boston Police Department\n"
     ]
    },
    {
     "data": {
      "text/plain": [
       "NAME                                  Brown Michael A\n",
       "DEPARTMENT NAME              Boston Police Department\n",
       "TITLE                                 Police Sergeant\n",
       "REGULAR                                        102163\n",
       "RETRO                                         2477.61\n",
       "OTHER                                         8737.68\n",
       "OVERTIME                                      29762.4\n",
       "INJURED                                        2988.3\n",
       "DETAIL                                          61904\n",
       "QUINN/EDUCATION INCENTIVE                       19348\n",
       "TOTAL EARNINGS                                 227381\n",
       "POSTAL                                           2050\n",
       "Name: 9964, dtype: object"
      ]
     },
     "execution_count": 17,
     "metadata": {},
     "output_type": "execute_result"
    }
   ],
   "source": [
    "# Data Exploration \n",
    "\n",
    "# Check for employee with highest regular pay\n",
    "highest_salary = report_2017_list['REGULAR'].idxmax()\n",
    "\n",
    "print(\"Name of the employee who gets highest regular pay of all departments : \",report_2017_list.loc[highest_salary]['NAME'])\n",
    "\n",
    "# Check department\n",
    "print(\"highest base salary department is :\",report_2017_list.loc[highest_salary]['DEPARTMENT NAME'])\n",
    "\n",
    "# Check entire details of employee with highest regular pay\n",
    "report_2017_list.loc[highest_salary]\n"
   ]
  },
  {
   "cell_type": "code",
   "execution_count": 18,
   "metadata": {},
   "outputs": [
    {
     "name": "stdout",
     "output_type": "stream",
     "text": [
      " The employee who is highly educated and gets high QUINN/EDUCATION incentive is : Difazio Vincent J\n"
     ]
    },
    {
     "data": {
      "text/plain": [
       "NAME                                Difazio Vincent J\n",
       "DEPARTMENT NAME              Boston Police Department\n",
       "TITLE                                Police Detective\n",
       "REGULAR                                       37969.1\n",
       "RETRO                                          1977.4\n",
       "OTHER                                         9548.65\n",
       "OVERTIME                                      31197.2\n",
       "INJURED                                       60872.1\n",
       "DETAIL                                           8740\n",
       "QUINN/EDUCATION INCENTIVE                     20670.5\n",
       "TOTAL EARNINGS                                 170975\n",
       "POSTAL                                           2351\n",
       "Name: 363, dtype: object"
      ]
     },
     "execution_count": 18,
     "metadata": {},
     "output_type": "execute_result"
    }
   ],
   "source": [
    "# Check for highly educated employee with help of 'QUINN/EDUCATION INCENTIVE'\n",
    "\n",
    "highest_pay = report_2017_list['QUINN/EDUCATION INCENTIVE'].idxmax()\n",
    "print(\" The employee who is highly educated and gets high QUINN/EDUCATION incentive is :\",report_2017_list.loc[highest_pay]['NAME'])\n",
    "\n",
    "# Checking completing details of the above employee\n",
    "report_2017_list.loc[highest_pay]"
   ]
  },
  {
   "cell_type": "code",
   "execution_count": 19,
   "metadata": {},
   "outputs": [
    {
     "name": "stdout",
     "output_type": "stream",
     "text": [
      " The employee who gets highest overtime pay is : Whalen Richard L\n"
     ]
    },
    {
     "data": {
      "text/plain": [
       "NAME                                 Whalen Richard L\n",
       "DEPARTMENT NAME              Boston Police Department\n",
       "TITLE                                Police Detective\n",
       "REGULAR                                       94956.2\n",
       "RETRO                                         4985.32\n",
       "OTHER                                         13591.9\n",
       "OVERTIME                                      85419.2\n",
       "INJURED                                         58.03\n",
       "DETAIL                                          16330\n",
       "QUINN/EDUCATION INCENTIVE                       19971\n",
       "TOTAL EARNINGS                                 235312\n",
       "POSTAL                                           2062\n",
       "Name: 3, dtype: object"
      ]
     },
     "execution_count": 19,
     "metadata": {},
     "output_type": "execute_result"
    }
   ],
   "source": [
    "# Check for employee who usually wokrs overtime\n",
    "\n",
    "highest_pay_overtime = report_2017_list['OVERTIME'].idxmax()\n",
    "print(\" The employee who gets highest overtime pay is :\",report_2017_list.loc[highest_pay_overtime]['NAME'])\n",
    "\n",
    "# Details of the employee\n",
    "report_2017_list.loc[highest_pay_overtime]"
   ]
  },
  {
   "cell_type": "markdown",
   "metadata": {},
   "source": [
    "DATA VISUALIZATION\n",
    "\n",
    "1) Total Earnings of employees in different areas(postal).\n"
   ]
  },
  {
   "cell_type": "markdown",
   "metadata": {},
   "source": [
    "2) Position of Employee with higher regular pay.\n"
   ]
  },
  {
   "cell_type": "markdown",
   "metadata": {},
   "source": [
    "3) Identifying which type of pay contributed more to total earnings in different postal.\n"
   ]
  },
  {
   "cell_type": "markdown",
   "metadata": {},
   "source": [
    "4) A combined plot for TOTAL EARNINGS vs INJURED PAY."
   ]
  },
  {
   "cell_type": "code",
   "execution_count": 20,
   "metadata": {},
   "outputs": [
    {
     "name": "stderr",
     "output_type": "stream",
     "text": [
      "C:\\Users\\Vivek Shah\\anaconda3\\lib\\site-packages\\ipykernel_launcher.py:5: SettingWithCopyWarning: \n",
      "A value is trying to be set on a copy of a slice from a DataFrame\n",
      "\n",
      "See the caveats in the documentation: https://pandas.pydata.org/pandas-docs/stable/user_guide/indexing.html#returning-a-view-versus-a-copy\n",
      "  \"\"\"\n"
     ]
    },
    {
     "data": {
      "text/html": [
       "<div>\n",
       "<style scoped>\n",
       "    .dataframe tbody tr th:only-of-type {\n",
       "        vertical-align: middle;\n",
       "    }\n",
       "\n",
       "    .dataframe tbody tr th {\n",
       "        vertical-align: top;\n",
       "    }\n",
       "\n",
       "    .dataframe thead th {\n",
       "        text-align: right;\n",
       "    }\n",
       "</style>\n",
       "<table border=\"1\" class=\"dataframe\">\n",
       "  <thead>\n",
       "    <tr style=\"text-align: right;\">\n",
       "      <th></th>\n",
       "      <th>NAME</th>\n",
       "      <th>DEPARTMENT NAME</th>\n",
       "      <th>TITLE</th>\n",
       "      <th>REGULAR</th>\n",
       "      <th>RETRO</th>\n",
       "      <th>OTHER</th>\n",
       "      <th>OVERTIME</th>\n",
       "      <th>INJURED</th>\n",
       "      <th>DETAIL</th>\n",
       "      <th>QUINN/EDUCATION INCENTIVE</th>\n",
       "      <th>TOTAL EARNINGS</th>\n",
       "      <th>POSTAL</th>\n",
       "    </tr>\n",
       "  </thead>\n",
       "  <tbody>\n",
       "    <tr>\n",
       "      <th>10929</th>\n",
       "      <td>Almeida Ismael Lopes</td>\n",
       "      <td>Boston Police Department</td>\n",
       "      <td>Police Officer</td>\n",
       "      <td>86918.09</td>\n",
       "      <td>5650.64</td>\n",
       "      <td>800.00</td>\n",
       "      <td>24288.60</td>\n",
       "      <td>654.55</td>\n",
       "      <td>126822.0</td>\n",
       "      <td>13961.83</td>\n",
       "      <td>259095.71</td>\n",
       "      <td>2124</td>\n",
       "    </tr>\n",
       "    <tr>\n",
       "      <th>3</th>\n",
       "      <td>Whalen Richard L</td>\n",
       "      <td>Boston Police Department</td>\n",
       "      <td>Police Detective</td>\n",
       "      <td>94956.25</td>\n",
       "      <td>4985.32</td>\n",
       "      <td>13591.93</td>\n",
       "      <td>85419.22</td>\n",
       "      <td>58.03</td>\n",
       "      <td>16330.0</td>\n",
       "      <td>19971.01</td>\n",
       "      <td>235311.76</td>\n",
       "      <td>2062</td>\n",
       "    </tr>\n",
       "    <tr>\n",
       "      <th>5580</th>\n",
       "      <td>Gero Jarrod A</td>\n",
       "      <td>Boston Police Department</td>\n",
       "      <td>Police Detective</td>\n",
       "      <td>84757.51</td>\n",
       "      <td>14709.90</td>\n",
       "      <td>3979.71</td>\n",
       "      <td>84081.42</td>\n",
       "      <td>3422.78</td>\n",
       "      <td>22080.0</td>\n",
       "      <td>15216.29</td>\n",
       "      <td>228247.61</td>\n",
       "      <td>2132</td>\n",
       "    </tr>\n",
       "    <tr>\n",
       "      <th>9964</th>\n",
       "      <td>Brown Michael A</td>\n",
       "      <td>Boston Police Department</td>\n",
       "      <td>Police Sergeant</td>\n",
       "      <td>102162.90</td>\n",
       "      <td>2477.61</td>\n",
       "      <td>8737.68</td>\n",
       "      <td>29762.42</td>\n",
       "      <td>2988.30</td>\n",
       "      <td>61904.0</td>\n",
       "      <td>19348.03</td>\n",
       "      <td>227380.94</td>\n",
       "      <td>2050</td>\n",
       "    </tr>\n",
       "    <tr>\n",
       "      <th>1093</th>\n",
       "      <td>Maloney Thomas F</td>\n",
       "      <td>Boston Police Department</td>\n",
       "      <td>Police Officer</td>\n",
       "      <td>90200.16</td>\n",
       "      <td>3557.76</td>\n",
       "      <td>4213.04</td>\n",
       "      <td>7882.04</td>\n",
       "      <td>1432.50</td>\n",
       "      <td>102350.0</td>\n",
       "      <td>14318.16</td>\n",
       "      <td>223953.66</td>\n",
       "      <td>2127</td>\n",
       "    </tr>\n",
       "    <tr>\n",
       "      <th>676</th>\n",
       "      <td>Fleming Edward J</td>\n",
       "      <td>Boston Police Department</td>\n",
       "      <td>Police Officer</td>\n",
       "      <td>90498.50</td>\n",
       "      <td>6744.43</td>\n",
       "      <td>9572.86</td>\n",
       "      <td>34129.15</td>\n",
       "      <td>683.45</td>\n",
       "      <td>66424.0</td>\n",
       "      <td>14504.06</td>\n",
       "      <td>222556.45</td>\n",
       "      <td>2360</td>\n",
       "    </tr>\n",
       "    <tr>\n",
       "      <th>1009</th>\n",
       "      <td>James Alfred A</td>\n",
       "      <td>Boston Police Department</td>\n",
       "      <td>Police Officer</td>\n",
       "      <td>67578.97</td>\n",
       "      <td>2796.07</td>\n",
       "      <td>8442.90</td>\n",
       "      <td>47050.73</td>\n",
       "      <td>26751.21</td>\n",
       "      <td>48806.0</td>\n",
       "      <td>14525.53</td>\n",
       "      <td>215951.41</td>\n",
       "      <td>2301</td>\n",
       "    </tr>\n",
       "    <tr>\n",
       "      <th>159</th>\n",
       "      <td>Shoulla Christopher K</td>\n",
       "      <td>Boston Police Department</td>\n",
       "      <td>Police Offc Comm Serv Offc 38</td>\n",
       "      <td>72854.70</td>\n",
       "      <td>2410.37</td>\n",
       "      <td>8364.66</td>\n",
       "      <td>62211.53</td>\n",
       "      <td>21193.90</td>\n",
       "      <td>30406.0</td>\n",
       "      <td>18490.71</td>\n",
       "      <td>215931.87</td>\n",
       "      <td>2339</td>\n",
       "    </tr>\n",
       "    <tr>\n",
       "      <th>518</th>\n",
       "      <td>Aviles Elvin</td>\n",
       "      <td>Boston Police Department</td>\n",
       "      <td>Police Officer</td>\n",
       "      <td>93180.42</td>\n",
       "      <td>2305.80</td>\n",
       "      <td>4091.29</td>\n",
       "      <td>37800.10</td>\n",
       "      <td>47.57</td>\n",
       "      <td>61456.0</td>\n",
       "      <td>14733.53</td>\n",
       "      <td>213614.71</td>\n",
       "      <td>2131</td>\n",
       "    </tr>\n",
       "    <tr>\n",
       "      <th>1304</th>\n",
       "      <td>Hill Dudley N</td>\n",
       "      <td>Boston Police Department</td>\n",
       "      <td>Police Officer</td>\n",
       "      <td>90908.77</td>\n",
       "      <td>6696.18</td>\n",
       "      <td>4123.00</td>\n",
       "      <td>56186.33</td>\n",
       "      <td>664.60</td>\n",
       "      <td>37858.0</td>\n",
       "      <td>14543.20</td>\n",
       "      <td>210980.08</td>\n",
       "      <td>2136</td>\n",
       "    </tr>\n",
       "  </tbody>\n",
       "</table>\n",
       "</div>"
      ],
      "text/plain": [
       "                        NAME           DEPARTMENT NAME  \\\n",
       "10929   Almeida Ismael Lopes  Boston Police Department   \n",
       "3           Whalen Richard L  Boston Police Department   \n",
       "5580           Gero Jarrod A  Boston Police Department   \n",
       "9964         Brown Michael A  Boston Police Department   \n",
       "1093        Maloney Thomas F  Boston Police Department   \n",
       "676         Fleming Edward J  Boston Police Department   \n",
       "1009          James Alfred A  Boston Police Department   \n",
       "159    Shoulla Christopher K  Boston Police Department   \n",
       "518             Aviles Elvin  Boston Police Department   \n",
       "1304           Hill Dudley N  Boston Police Department   \n",
       "\n",
       "                               TITLE    REGULAR     RETRO     OTHER  OVERTIME  \\\n",
       "10929                 Police Officer   86918.09   5650.64    800.00  24288.60   \n",
       "3                   Police Detective   94956.25   4985.32  13591.93  85419.22   \n",
       "5580                Police Detective   84757.51  14709.90   3979.71  84081.42   \n",
       "9964                 Police Sergeant  102162.90   2477.61   8737.68  29762.42   \n",
       "1093                  Police Officer   90200.16   3557.76   4213.04   7882.04   \n",
       "676                   Police Officer   90498.50   6744.43   9572.86  34129.15   \n",
       "1009                  Police Officer   67578.97   2796.07   8442.90  47050.73   \n",
       "159    Police Offc Comm Serv Offc 38   72854.70   2410.37   8364.66  62211.53   \n",
       "518                   Police Officer   93180.42   2305.80   4091.29  37800.10   \n",
       "1304                  Police Officer   90908.77   6696.18   4123.00  56186.33   \n",
       "\n",
       "        INJURED    DETAIL  QUINN/EDUCATION INCENTIVE  TOTAL EARNINGS POSTAL  \n",
       "10929    654.55  126822.0                   13961.83       259095.71   2124  \n",
       "3         58.03   16330.0                   19971.01       235311.76   2062  \n",
       "5580    3422.78   22080.0                   15216.29       228247.61   2132  \n",
       "9964    2988.30   61904.0                   19348.03       227380.94   2050  \n",
       "1093    1432.50  102350.0                   14318.16       223953.66   2127  \n",
       "676      683.45   66424.0                   14504.06       222556.45   2360  \n",
       "1009   26751.21   48806.0                   14525.53       215951.41   2301  \n",
       "159    21193.90   30406.0                   18490.71       215931.87   2339  \n",
       "518       47.57   61456.0                   14733.53       213614.71   2131  \n",
       "1304     664.60   37858.0                   14543.20       210980.08   2136  "
      ]
     },
     "execution_count": 20,
     "metadata": {},
     "output_type": "execute_result"
    }
   ],
   "source": [
    "# Data visualization \n",
    "\n",
    "# Check for all employees who recieve all payments\n",
    "\n",
    "report_2017_list.sort_values('TOTAL EARNINGS', ascending=False, inplace=True)\n",
    "top_earnings=report_2017_list.head(10)\n",
    "top_earnings"
   ]
  },
  {
   "cell_type": "code",
   "execution_count": 21,
   "metadata": {},
   "outputs": [
    {
     "data": {
      "text/plain": [
       "<matplotlib.axes._subplots.AxesSubplot at 0x212ed61f2c8>"
      ]
     },
     "execution_count": 21,
     "metadata": {},
     "output_type": "execute_result"
    },
    {
     "data": {
      "image/png": "[encoded data removed]",
      "text/plain": [
       "<Figure size 432x288 with 1 Axes>"
      ]
     },
     "metadata": {
      "needs_background": "light"
     },
     "output_type": "display_data"
    }
   ],
   "source": [
    "# Plotting them with repsect to 'POSTAL'\n",
    "\n",
    "top_earnings.groupby('POSTAL')['TOTAL EARNINGS'].mean().plot(kind='bar')"
   ]
  },
  {
   "cell_type": "code",
   "execution_count": 22,
   "metadata": {},
   "outputs": [
    {
     "data": {
      "text/plain": [
       "[None, None, None, None, None, None, None, None]"
      ]
     },
     "execution_count": 22,
     "metadata": {},
     "output_type": "execute_result"
    },
    {
     "data": {
      "image/png": "[encoded data removed]",
      "text/plain": [
       "<Figure size 432x288 with 1 Axes>"
      ]
     },
     "metadata": {
      "needs_background": "light"
     },
     "output_type": "display_data"
    }
   ],
   "source": [
    "# Plot for employee with higher regular pay with respect to 'TITLE'\n",
    "\n",
    "ax=top_earnings.groupby('TITLE')['REGULAR'].mean().plot(kind='bar')\n",
    "plt.ylabel('REGULAR PAY')\n",
    "plt.title(\"REGULAR PAY vs TITLE\")\n",
    "plt.setp(ax.get_xticklabels(), rotation=30, horizontalalignment='right')"
   ]
  },
  {
   "cell_type": "code",
   "execution_count": 23,
   "metadata": {},
   "outputs": [
    {
     "data": {
      "image/png": "[encoded data removed]",
      "text/plain": [
       "<Figure size 432x288 with 1 Axes>"
      ]
     },
     "metadata": {
      "needs_background": "light"
     },
     "output_type": "display_data"
    }
   ],
   "source": [
    "# Check which attribute contributed the most to 'TOTAL EARNINGS' with respect to 'POSTAL'\n",
    "\n",
    "rp=top_earnings['REGULAR']\n",
    "dp=top_earnings['DETAIL']\n",
    "op=top_earnings['OTHER']\n",
    "otp=top_earnings['OVERTIME']\n",
    "retp=top_earnings['RETRO']\n",
    "ip=top_earnings['INJURED']\n",
    "qp=top_earnings['QUINN/EDUCATION INCENTIVE']\n",
    "p=top_earnings['POSTAL']\n",
    "plt.bar(p,rp,bottom=dp+op+retp+ip+qp+otp,color='yellow') # REGULAR\n",
    "plt.bar(p,retp,bottom=dp+op+ip+qp+otp,color='darkmagenta')   # RETRO\n",
    "plt.bar(p,op,bottom=dp+ip+qp+otp,color='crimson')  # OTHER \n",
    "plt.bar(p,otp,bottom=dp+ip+qp,color='aqua')     # OVERTIME\n",
    "plt.bar(p,ip,bottom=dp+qp,color='olive') # INJURED\n",
    "plt.bar(p,dp,bottom=qp)   #DETAIL\n",
    "plt.bar(p,qp)   #QUINN/EDUCATION INCENTIVE\n",
    "plt.title('POSTAL VS TOTAL EARNINGS')\n",
    "plt.xlabel(\"POSTAL\")\n",
    "plt.ylabel(\"TOTAL EARNINGS\")\n",
    "plt.show()"
   ]
  },
  {
   "cell_type": "code",
   "execution_count": 24,
   "metadata": {},
   "outputs": [
    {
     "data": {
      "image/png": "[encoded data removed]",
      "text/plain": [
       "<Figure size 1296x1080 with 9 Axes>"
      ]
     },
     "metadata": {
      "needs_background": "light"
     },
     "output_type": "display_data"
    }
   ],
   "source": [
    "# Visualization for each attribute (HISTOGRAM PLOT)\n",
    "\n",
    "top_earnings.hist(bins=15, figsize=(18,15))\n",
    "plt.ylabel('Frequency')\n",
    "plt.show()"
   ]
  },
  {
   "cell_type": "code",
   "execution_count": 25,
   "metadata": {},
   "outputs": [
    {
     "data": {
      "text/plain": [
       "<matplotlib.axes._subplots.AxesSubplot at 0x212ed42e148>"
      ]
     },
     "execution_count": 25,
     "metadata": {},
     "output_type": "execute_result"
    },
    {
     "data": {
      "image/png": "[encoded data removed]",
      "text/plain": [
       "<Figure size 432x288 with 1 Axes>"
      ]
     },
     "metadata": {
      "needs_background": "light"
     },
     "output_type": "display_data"
    }
   ],
   "source": [
    "# To identify mean is on which side of the data i.e. right side or left side\n",
    "\n",
    "sns.distplot(top_earnings['REGULAR'])\n",
    "sns.distplot(top_earnings['DETAIL'])\n",
    "\n",
    "# Distribution plot of 'DETAIL' is left tailed compared to 'REGULAR'"
   ]
  },
  {
   "cell_type": "markdown",
   "metadata": {},
   "source": [
    "IMPLOT FOR QUINN/EDUCATION INNCENTIVE AND REGULAR PAY"
   ]
  },
  {
   "cell_type": "code",
   "execution_count": 26,
   "metadata": {},
   "outputs": [
    {
     "data": {
      "text/plain": [
       "<seaborn.axisgrid.FacetGrid at 0x212ed48c648>"
      ]
     },
     "execution_count": 26,
     "metadata": {},
     "output_type": "execute_result"
    },
    {
     "data": {
      "image/png": "[encoded data removed]",
      "text/plain": [
       "<Figure size 526.25x360 with 1 Axes>"
      ]
     },
     "metadata": {
      "needs_background": "light"
     },
     "output_type": "display_data"
    }
   ],
   "source": [
    "# Using seaborn for visualizations \n",
    "\n",
    "import seaborn as sns\n",
    "sns.lmplot(x='QUINN/EDUCATION INCENTIVE', y='REGULAR', hue='DEPARTMENT NAME', data=report_2017_list)"
   ]
  },
  {
   "cell_type": "markdown",
   "metadata": {},
   "source": [
    "PREDICTIVE ANALYSIS\n",
    "\n",
    "1) Distribution plot for REGULAR, RETRO and QUINN/EDUCATION INCENTIVE.\n",
    "\n",
    "INTERPRETATION: \n",
    "\n",
    "1) The distribution of Quinn/education pay is very less compared to regular pay and Retro pay.\n"
   ]
  },
  {
   "cell_type": "markdown",
   "metadata": {},
   "source": [
    "2) The REGULAR pay is highly distributed and has large mean value compared to quinn/education INCENTIVE and retro pay.\n"
   ]
  },
  {
   "cell_type": "markdown",
   "metadata": {},
   "source": [
    "3) Based on the distribution of these pays, we can identify what type of pay the employees receives more.\n"
   ]
  },
  {
   "cell_type": "code",
   "execution_count": 27,
   "metadata": {},
   "outputs": [
    {
     "data": {
      "text/plain": [
       "<matplotlib.legend.Legend at 0x212ed49ec08>"
      ]
     },
     "execution_count": 27,
     "metadata": {},
     "output_type": "execute_result"
    },
    {
     "data": {
      "image/png": "[encoded data removed]",
      "text/plain": [
       "<Figure size 432x288 with 1 Axes>"
      ]
     },
     "metadata": {
      "needs_background": "light"
     },
     "output_type": "display_data"
    }
   ],
   "source": [
    "import statsmodels\n",
    "import statsmodels.stats as stats\n",
    "x=top_earnings['REGULAR']\n",
    "y=top_earnings['RETRO']\n",
    "z=top_earnings['QUINN/EDUCATION INCENTIVE']\n",
    "sns.distplot(x)\n",
    "sns.distplot(y, color='red')\n",
    "sns.distplot(z, color='gold')\n",
    "plt.xlabel(\"REGULAR , RETRO and QUINN/EDUCATION PAY\")\n",
    "plt.legend(['REGULAR', 'RETRO', 'QUINN/EDUCATION PAY'])"
   ]
  },
  {
   "cell_type": "markdown",
   "metadata": {},
   "source": [
    "PREDICTING THE REGULAR PAY BASED ON QUINN/EDUCATION INCENTIVE \n",
    "\n",
    "1) The employees who get high QUINN/EDUCATION INCENTIVE are highly educated and they get incremented regular pay."
   ]
  },
  {
   "cell_type": "markdown",
   "metadata": {},
   "source": [
    "2) Studying whether the REGULAR PAY increased with increase of QUINN/EDUCATION INCENTIVE."
   ]
  },
  {
   "cell_type": "markdown",
   "metadata": {},
   "source": [
    "3) Here, I have used linear model regression for predicting the regular pay."
   ]
  },
  {
   "cell_type": "markdown",
   "metadata": {},
   "source": [
    "INTERPRETATION: \n",
    "    \n",
    "1) Here, with increment in Quinn/education incentive the regular pay is not increasing.\n"
   ]
  },
  {
   "cell_type": "markdown",
   "metadata": {},
   "source": [
    "2) The employees who get high QUINN/EDUCATION INCENTIVE receives less regular pay from the plot.\n"
   ]
  },
  {
   "cell_type": "markdown",
   "metadata": {},
   "source": [
    "3) We can see the line which gives the predictive values of regular pay based on QUINN/EDUCATION INCENTIVE."
   ]
  },
  {
   "cell_type": "code",
   "execution_count": 28,
   "metadata": {},
   "outputs": [
    {
     "name": "stdout",
     "output_type": "stream",
     "text": [
      "y:(123, 1)\n",
      "X:(123, 2)\n"
     ]
    },
    {
     "name": "stderr",
     "output_type": "stream",
     "text": [
      "C:\\Users\\Vivek Shah\\anaconda3\\lib\\site-packages\\ipykernel_launcher.py:4: SettingWithCopyWarning: \n",
      "A value is trying to be set on a copy of a slice from a DataFrame.\n",
      "Try using .loc[row_indexer,col_indexer] = value instead\n",
      "\n",
      "See the caveats in the documentation: https://pandas.pydata.org/pandas-docs/stable/user_guide/indexing.html#returning-a-view-versus-a-copy\n",
      "  after removing the cwd from sys.path.\n",
      "C:\\Users\\Vivek Shah\\anaconda3\\lib\\site-packages\\ipykernel_launcher.py:5: SettingWithCopyWarning: \n",
      "A value is trying to be set on a copy of a slice from a DataFrame.\n",
      "Try using .loc[row_indexer,col_indexer] = value instead\n",
      "\n",
      "See the caveats in the documentation: https://pandas.pydata.org/pandas-docs/stable/user_guide/indexing.html#returning-a-view-versus-a-copy\n",
      "  \"\"\"\n"
     ]
    },
    {
     "data": {
      "text/plain": [
       "Text(0, 0.5, 'REGULAR PERCENT')"
      ]
     },
     "execution_count": 28,
     "metadata": {},
     "output_type": "execute_result"
    },
    {
     "data": {
      "image/png": "[encoded data removed]",
      "text/plain": [
       "<Figure size 432x288 with 1 Axes>"
      ]
     },
     "metadata": {
      "needs_background": "light"
     },
     "output_type": "display_data"
    }
   ],
   "source": [
    "from sklearn import linear_model\n",
    "from patsy import dmatrices\n",
    "\n",
    "report_2017_list['QUINN/EDUCATION PERCENT']=((report_2017_list['QUINN/EDUCATION INCENTIVE']/report_2017_list['TOTAL EARNINGS'])*100).astype(float)\n",
    "report_2017_list['REGULAR PERCENT']=((report_2017_list['REGULAR']/report_2017_list['TOTAL EARNINGS'])*100).astype(float)\n",
    "\n",
    "y=report_2017_list['REGULAR PERCENT']\n",
    "X=report_2017_list['QUINN/EDUCATION PERCENT']\n",
    "\n",
    "y,X = dmatrices('y ~ X', data=report_2017_list)\n",
    "print(\"y:{}\".format(y.shape))\n",
    "print(\"X:{}\".format(X.shape))\n",
    "model = linear_model.LinearRegression(fit_intercept=False)\n",
    "res = model.fit(X,y )\n",
    "plt.plot(X[:,1], y, '.')\n",
    "plt.plot(X[:,1], model.predict(X), '.')\n",
    "plt.legend(['QUINN/EDUCATION PERCENT', 'REGULAR PERCENT'])\n",
    "plt.xlabel(\"QUINN/EDUCATION PERCENT\")\n",
    "plt.ylabel(\"REGULAR PERCENT\")"
   ]
  },
  {
   "cell_type": "code",
   "execution_count": 29,
   "metadata": {},
   "outputs": [
    {
     "data": {
      "text/plain": [
       "<matplotlib.axes._subplots.AxesSubplot at 0x212ed4f7b88>"
      ]
     },
     "execution_count": 29,
     "metadata": {},
     "output_type": "execute_result"
    },
    {
     "data": {
      "image/png": "[encoded data removed]",
      "text/plain": [
       "<Figure size 432x288 with 1 Axes>"
      ]
     },
     "metadata": {
      "needs_background": "light"
     },
     "output_type": "display_data"
    }
   ],
   "source": [
    "# plot for above prediction\n",
    "sns.distplot(y - model.predict(X))"
   ]
  },
  {
   "cell_type": "code",
   "execution_count": 30,
   "metadata": {},
   "outputs": [
    {
     "name": "stderr",
     "output_type": "stream",
     "text": [
      "C:\\Users\\Vivek Shah\\anaconda3\\lib\\site-packages\\ipykernel_launcher.py:3: SettingWithCopyWarning: \n",
      "A value is trying to be set on a copy of a slice from a DataFrame.\n",
      "Try using .loc[row_indexer,col_indexer] = value instead\n",
      "\n",
      "See the caveats in the documentation: https://pandas.pydata.org/pandas-docs/stable/user_guide/indexing.html#returning-a-view-versus-a-copy\n",
      "  This is separate from the ipykernel package so we can avoid doing imports until\n",
      "C:\\Users\\Vivek Shah\\anaconda3\\lib\\site-packages\\seaborn\\distributions.py:200: RuntimeWarning: Mean of empty slice.\n",
      "  line, = ax.plot(a.mean(), 0)\n",
      "C:\\Users\\Vivek Shah\\anaconda3\\lib\\site-packages\\numpy\\core\\_methods.py:161: RuntimeWarning: invalid value encountered in double_scalars\n",
      "  ret = ret.dtype.type(ret / rcount)\n",
      "C:\\Users\\Vivek Shah\\anaconda3\\lib\\site-packages\\numpy\\lib\\histograms.py:908: RuntimeWarning: invalid value encountered in true_divide\n",
      "  return n/db/n.sum(), bin_edges\n"
     ]
    },
    {
     "data": {
      "text/plain": [
       "Text(0, 0.5, 'REGULAR PERCENT')"
      ]
     },
     "execution_count": 30,
     "metadata": {},
     "output_type": "execute_result"
    },
    {
     "data": {
      "image/png": "[encoded data removed]",
      "text/plain": [
       "<Figure size 432x288 with 1 Axes>"
      ]
     },
     "metadata": {
      "needs_background": "light"
     },
     "output_type": "display_data"
    }
   ],
   "source": [
    "#df_report_2017_list['QUINN PERCENT']=((df_report_2017_list['QUINN/EDUCATION INCENTIVE ($)']/df_report_2017_list['TOTAL EARNINGS ($)'])*100).astype(float)\n",
    "\n",
    "report_2017_list['REGULAR PERCENT']=((report_2017_list['REGULAR']/report_2017_list['TOTAL EARNINGS'])*100).astype(float)\n",
    "y=report_2017_list['REGULAR PERCENT']\n",
    "X=report_2017_list['TOTAL EARNINGS']\n",
    "y, X = dmatrices('y ~ X', data=report_2017_list)\n",
    "sns.distplot(X[y[:,0] > 0, 1])\n",
    "sns.distplot(X[y[:,0] == 0, 1])\n",
    "plt.xlabel(\"TOTAL EARNINGS\")\n",
    "plt.ylabel(\"REGULAR PERCENT\")\n"
   ]
  },
  {
   "cell_type": "markdown",
   "metadata": {},
   "source": [
    "CONCLUSION: \n",
    "\n",
    "1) The employees with same title in different postal in Boston receive different salaries. In my opinion it totally depends on their experience and the qualification whicch is acutally influencing their pay along with how many hours i.e. overtime they are working.\n"
   ]
  },
  {
   "cell_type": "markdown",
   "metadata": {},
   "source": [
    "2) The dataset Employee Earnings Report, the employees belong to different departments with different position titles.It is not necessary that the employees who receive high regular pay doesn't receive high quinn/education incentive. The regular pay and the overtime pay contribute more to total earnings than the rest of the pay types. It is possible that most of the employees work hard and they would receive high overtime pay than their regular pay."
   ]
  },
  {
   "cell_type": "markdown",
   "metadata": {},
   "source": [
    "3) Using Predictive analytics, performed analysis of Quinn/education incentive and overtime pay. Through this it is concluded that the employees does work hard though they are highly educated."
   ]
  }
 ],
 "metadata": {
  "kernelspec": {
   "display_name": "Python 3",
   "language": "python",
   "name": "python3"
  },
  "language_info": {
   "codemirror_mode": {
    "name": "ipython",
    "version": 3
   },
   "file_extension": ".py",
   "mimetype": "text/x-python",
   "name": "python",
   "nbconvert_exporter": "python",
   "pygments_lexer": "ipython3",
   "version": "3.7.6"
  }
 },
 "nbformat": 4,
 "nbformat_minor": 4
}
